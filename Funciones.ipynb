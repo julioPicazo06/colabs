{
 "cells": [
  {
   "cell_type": "code",
   "id": "initial_id",
   "metadata": {
    "collapsed": true,
    "ExecuteTime": {
     "end_time": "2025-10-24T01:29:31.381995Z",
     "start_time": "2025-10-24T01:29:31.302262Z"
    }
   },
   "source": "print(\"nombre\")",
   "outputs": [
    {
     "name": "stdout",
     "output_type": "stream",
     "text": [
      "nombre\n"
     ]
    }
   ],
   "execution_count": 1
  },
  {
   "metadata": {},
   "cell_type": "markdown",
   "source": "Definicion de funciones",
   "id": "8ee21af9788556c1"
  },
  {
   "metadata": {
    "ExecuteTime": {
     "end_time": "2025-10-24T01:34:24.162581Z",
     "start_time": "2025-10-24T01:34:16.787379Z"
    }
   },
   "cell_type": "code",
   "source": [
    "def saludo_master():\n",
    "    print(\"Bienvenido al master en Inteligencia Artificial\")\n",
    "\n",
    "def cuadrado(numero):\n",
    "    return numero ** 2\n",
    "\n",
    "num = int (input(\"Introduce un numero entero \"))\n",
    "\n",
    "print(f\"El cuadrado de 5 es : {cuadrado(5)}\")"
   ],
   "id": "49d09c4cd3216a9c",
   "outputs": [
    {
     "name": "stdout",
     "output_type": "stream",
     "text": [
      "El cuadrado de 5 es : 25\n"
     ]
    }
   ],
   "execution_count": 3
  },
  {
   "metadata": {
    "ExecuteTime": {
     "end_time": "2025-10-24T01:36:56.603272Z",
     "start_time": "2025-10-24T01:36:56.389247Z"
    }
   },
   "cell_type": "code",
   "source": [
    "#funciones de iperaciones aritmeticas\n",
    "def suma(num1 , num2):\n",
    "    return num1 + num2\n",
    "suma(5,8)"
   ],
   "id": "bcc1002176b0d58f",
   "outputs": [
    {
     "data": {
      "text/plain": [
       "13"
      ]
     },
     "execution_count": 4,
     "metadata": {},
     "output_type": "execute_result"
    }
   ],
   "execution_count": 4
  },
  {
   "metadata": {
    "ExecuteTime": {
     "end_time": "2025-10-24T02:00:04.389427Z",
     "start_time": "2025-10-24T01:59:52.684991Z"
    }
   },
   "cell_type": "code",
   "source": [
    "# resta multiplicacion division\n",
    "num1 = float(input(\"Introduce un numero\"))\n",
    "num2 = float(input(\"Introduce otro numero\"))\n",
    "def resta(num1 , num2):\n",
    "    return num1 - num2\n",
    "def multiplicacion(num1 , num2):\n",
    "    return num1 * num2\n",
    "def division(num1 , num2):\n",
    "    return num1 / num2\n",
    "\n",
    "print(f\"La resta de  {num1} y {num2} es : {resta(num1 , num2)} \")\n",
    "print(f\"La multiplicacion de {num1} y {num2} es : {multiplicacion(num1 , num2)} \")\n",
    "print(f\"La division de {num1} y {num2} es : {division(num1 , num2)} \")"
   ],
   "id": "a864a2520b9fcc5a",
   "outputs": [
    {
     "name": "stdout",
     "output_type": "stream",
     "text": [
      "La resta de  400.0 y 20.0 es : 380.0 \n",
      "La multiplicacion de 400.0 y 20.0 es : 8000.0 \n",
      "La division de 400.0 y 20.0 es : 20.0 \n"
     ]
    }
   ],
   "execution_count": 5
  },
  {
   "metadata": {},
   "cell_type": "markdown",
   "source": "funcion que sume todos los elementos de una listsa",
   "id": "b13db7578c78bc5b"
  },
  {
   "metadata": {
    "ExecuteTime": {
     "end_time": "2025-10-24T02:28:47.028832Z",
     "start_time": "2025-10-24T02:28:47.015136Z"
    }
   },
   "cell_type": "code",
   "source": [
    "#Funcion para sumar los elementos de una lista\n",
    "#Aqui se llama parametro\n",
    "def sumar_lista ( lista ) :\n",
    "    total = sum(lista)\n",
    "    return total\n",
    "\n",
    "lista = [2,4,6,8,9,]\n",
    "#aqui se llama argumento\n",
    "print(f\"La suma de todos los elemento de la lista es : { sumar_lista(lista) }\")"
   ],
   "id": "bab2686c8b9edf12",
   "outputs": [
    {
     "name": "stdout",
     "output_type": "stream",
     "text": [
      "La suma de todos los elemento de la lista es : 29\n"
     ]
    }
   ],
   "execution_count": 7
  },
  {
   "metadata": {},
   "cell_type": "markdown",
   "source": "Funcion que calcula promedios",
   "id": "aa60d46651e9840"
  },
  {
   "metadata": {
    "ExecuteTime": {
     "end_time": "2025-10-24T02:36:04.430459Z",
     "start_time": "2025-10-24T02:36:04.395973Z"
    }
   },
   "cell_type": "code",
   "source": [
    "# calcular promedios\n",
    "def calcular_promedios ( calificaciones ):\n",
    "    promedio = sum(calificaciones) / len(calificaciones)\n",
    "    return promedio\n",
    "\n",
    "calificaciones = [ 8 ,10 ,9 , 5 , 8 ,6 , 6 ]\n",
    "\n",
    "print(f\"El promedio de las calificaciones es : { calcular_promedios(calificaciones)  } \")"
   ],
   "id": "abee720a91c30bc9",
   "outputs": [
    {
     "name": "stdout",
     "output_type": "stream",
     "text": [
      "El promedio de las calificaciones es : 7.428571428571429 \n"
     ]
    }
   ],
   "execution_count": 8
  },
  {
   "metadata": {},
   "cell_type": "markdown",
   "source": "Guardar en archivos",
   "id": "cd26b9e5fb9dacbe"
  },
  {
   "metadata": {
    "ExecuteTime": {
     "end_time": "2025-10-24T02:56:31.864212Z",
     "start_time": "2025-10-24T02:56:31.838952Z"
    }
   },
   "cell_type": "code",
   "source": [
    "## llamar libreria\n",
    "\n",
    "import milibreria as ml\n",
    "\n",
    "print(f\"{ml.promedio([9,4,3,1])}\")\n",
    "ml.saludar(\"Julio\")"
   ],
   "id": "fe8a05896198953b",
   "outputs": [
    {
     "name": "stdout",
     "output_type": "stream",
     "text": [
      "4.25\n"
     ]
    },
    {
     "data": {
      "text/plain": [
       "'Hola Julio , bienvenido a la libreria'"
      ]
     },
     "execution_count": 14,
     "metadata": {},
     "output_type": "execute_result"
    }
   ],
   "execution_count": 14
  }
 ],
 "metadata": {
  "kernelspec": {
   "display_name": "Python 3",
   "language": "python",
   "name": "python3"
  },
  "language_info": {
   "codemirror_mode": {
    "name": "ipython",
    "version": 2
   },
   "file_extension": ".py",
   "mimetype": "text/x-python",
   "name": "python",
   "nbconvert_exporter": "python",
   "pygments_lexer": "ipython2",
   "version": "2.7.6"
  }
 },
 "nbformat": 4,
 "nbformat_minor": 5
}
