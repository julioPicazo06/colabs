{
 "cells": [
  {
   "cell_type": "code",
   "id": "initial_id",
   "metadata": {
    "collapsed": true,
    "ExecuteTime": {
     "end_time": "2025-10-24T01:29:31.381995Z",
     "start_time": "2025-10-24T01:29:31.302262Z"
    }
   },
   "source": "print(\"nombre\")",
   "outputs": [
    {
     "name": "stdout",
     "output_type": "stream",
     "text": [
      "nombre\n"
     ]
    }
   ],
   "execution_count": 1
  },
  {
   "metadata": {},
   "cell_type": "markdown",
   "source": "Definicion de funciones",
   "id": "8ee21af9788556c1"
  },
  {
   "metadata": {
    "ExecuteTime": {
     "end_time": "2025-10-24T01:34:24.162581Z",
     "start_time": "2025-10-24T01:34:16.787379Z"
    }
   },
   "cell_type": "code",
   "source": [
    "def saludo_master():\n",
    "    print(\"Bienvenido al master en Inteligencia Artificial\")\n",
    "\n",
    "def cuadrado(numero):\n",
    "    return numero ** 2\n",
    "\n",
    "num = int (input(\"Introduce un numero entero \"))\n",
    "\n",
    "print(f\"El cuadrado de 5 es : {cuadrado(5)}\")"
   ],
   "id": "49d09c4cd3216a9c",
   "outputs": [
    {
     "name": "stdout",
     "output_type": "stream",
     "text": [
      "El cuadrado de 5 es : 25\n"
     ]
    }
   ],
   "execution_count": 3
  },
  {
   "metadata": {
    "ExecuteTime": {
     "end_time": "2025-10-24T01:36:56.603272Z",
     "start_time": "2025-10-24T01:36:56.389247Z"
    }
   },
   "cell_type": "code",
   "source": [
    "#funciones de iperaciones aritmeticas\n",
    "def suma(num1 , num2):\n",
    "    return num1 + num2\n",
    "suma(5,8)"
   ],
   "id": "bcc1002176b0d58f",
   "outputs": [
    {
     "data": {
      "text/plain": [
       "13"
      ]
     },
     "execution_count": 4,
     "metadata": {},
     "output_type": "execute_result"
    }
   ],
   "execution_count": 4
  },
  {
   "metadata": {},
   "cell_type": "code",
   "outputs": [],
   "execution_count": null,
   "source": [
    "# resta multiplicacion division\n",
    "num1 = float(input(\"Introduce un numero\"))\n",
    "num2 = float(input(\"Introduce otro numero\"))\n",
    "def resta(num1 , num2):\n",
    "    return num1 - num2\n",
    "def multiplicacion(num1 , num2):\n",
    "    return num1 * num2\n",
    "def division(num1 , num2):\n",
    "    return num1 / num2\n",
    "\n",
    "print(f\"La resta de  {num1} y {num2} es : {resta(num1 , num2)} \")\n",
    "print(f\"La multiplicacion de {num1} y {num2} es : {multiplicacion(num1 , num2)} \")\n",
    "print(f\"La division de {num1} y {num2} es : {division(num1 , num2)} \")"
   ],
   "id": "a864a2520b9fcc5a"
  }
 ],
 "metadata": {
  "kernelspec": {
   "display_name": "Python 3",
   "language": "python",
   "name": "python3"
  },
  "language_info": {
   "codemirror_mode": {
    "name": "ipython",
    "version": 2
   },
   "file_extension": ".py",
   "mimetype": "text/x-python",
   "name": "python",
   "nbconvert_exporter": "python",
   "pygments_lexer": "ipython2",
   "version": "2.7.6"
  }
 },
 "nbformat": 4,
 "nbformat_minor": 5
}
