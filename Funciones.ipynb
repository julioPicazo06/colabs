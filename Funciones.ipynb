{
 "cells": [
  {
   "cell_type": "code",
   "id": "initial_id",
   "metadata": {
    "collapsed": true,
    "ExecuteTime": {
     "end_time": "2025-10-24T01:29:31.381995Z",
     "start_time": "2025-10-24T01:29:31.302262Z"
    }
   },
   "source": "print(\"nombre\")",
   "outputs": [
    {
     "name": "stdout",
     "output_type": "stream",
     "text": [
      "nombre\n"
     ]
    }
   ],
   "execution_count": 1
  },
  {
   "metadata": {},
   "cell_type": "markdown",
   "source": "Definicion de funciones",
   "id": "8ee21af9788556c1"
  },
  {
   "metadata": {
    "ExecuteTime": {
     "end_time": "2025-10-24T01:33:05.542396Z",
     "start_time": "2025-10-24T01:33:05.083195Z"
    }
   },
   "cell_type": "code",
   "source": [
    "def saludo_master():\n",
    "    print(\"Bienvenido al master en Inteligencia Artificial\")\n",
    "\n",
    "def cuadrado(numero):\n",
    "    return numero ** 2\n",
    "\n",
    "num = int (input(\"Introduce un numero entero \"))\n",
    "\n",
    "print(f\"El cuadrado de 5 es : {cuadrado(5)}\")"
   ],
   "id": "49d09c4cd3216a9c",
   "outputs": [
    {
     "name": "stdout",
     "output_type": "stream",
     "text": [
      "El cuadrado de 5 es : 25\n"
     ]
    }
   ],
   "execution_count": 2
  }
 ],
 "metadata": {
  "kernelspec": {
   "display_name": "Python 3",
   "language": "python",
   "name": "python3"
  },
  "language_info": {
   "codemirror_mode": {
    "name": "ipython",
    "version": 2
   },
   "file_extension": ".py",
   "mimetype": "text/x-python",
   "name": "python",
   "nbconvert_exporter": "python",
   "pygments_lexer": "ipython2",
   "version": "2.7.6"
  }
 },
 "nbformat": 4,
 "nbformat_minor": 5
}
